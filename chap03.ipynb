{
 "cells": [
  {
   "cell_type": "code",
   "execution_count": null,
   "metadata": {},
   "outputs": [],
   "source": [
    "import pandas as pd\n",
    "import numpy as np\n",
    "import matplotlib\n",
    "import sklearn"
   ]
  },
  {
   "cell_type": "code",
   "execution_count": null,
   "metadata": {},
   "outputs": [],
   "source": [
    "print(\"pandas\", pd.__version__)\n",
    "print(\"numpy\", np.__version__)\n",
    "print(\"mpl\", matplotlib.__version__)\n",
    "print(\"sklearn\", sklearn.__version__)"
   ]
  },
  {
   "cell_type": "code",
   "execution_count": null,
   "metadata": {},
   "outputs": [],
   "source": [
    "from IPython.display import Image\n",
    "%matplotlib inline"
   ]
  },
  {
   "cell_type": "code",
   "execution_count": null,
   "metadata": {},
   "outputs": [],
   "source": [
    "from sklearn import datasets\n",
    "iris = datasets.load_iris()"
   ]
  },
  {
   "cell_type": "code",
   "execution_count": null,
   "metadata": {},
   "outputs": [],
   "source": [
    "X = iris.data[:, [2,3]]\n",
    "y = iris.target"
   ]
  },
  {
   "cell_type": "code",
   "execution_count": null,
   "metadata": {},
   "outputs": [],
   "source": [
    "np.unique(y)"
   ]
  },
  {
   "cell_type": "code",
   "execution_count": null,
   "metadata": {},
   "outputs": [],
   "source": [
    "import matplotlib.pyplot as plt\n",
    "\n",
    "_ = plt.scatter(X[:,0], X[:,1], c=y)"
   ]
  },
  {
   "cell_type": "code",
   "execution_count": null,
   "metadata": {},
   "outputs": [],
   "source": [
    "from sklearn.model_selection import train_test_split\n",
    "X_train, X_test, y_train, y_test = train_test_split(X, y,\n",
    "                                        test_size=0.3, random_state=1, \n",
    "                                        stratify=y)"
   ]
  },
  {
   "cell_type": "code",
   "execution_count": null,
   "metadata": {},
   "outputs": [],
   "source": [
    "print(\"label counts in y: \", np.bincount(y))"
   ]
  },
  {
   "cell_type": "code",
   "execution_count": null,
   "metadata": {},
   "outputs": [],
   "source": [
    "np.bincount(y_train), np.bincount(y_test)"
   ]
  },
  {
   "cell_type": "code",
   "execution_count": null,
   "metadata": {},
   "outputs": [],
   "source": [
    "from sklearn.preprocessing import StandardScaler\n",
    "#### StandardScaler?"
   ]
  },
  {
   "cell_type": "code",
   "execution_count": null,
   "metadata": {},
   "outputs": [],
   "source": [
    "sc = StandardScaler()\n",
    "sc.fit(X_train)\n",
    "X_train_std = sc.transform(X_train)\n",
    "X_test_std = sc.transform(X_test)"
   ]
  },
  {
   "cell_type": "code",
   "execution_count": null,
   "metadata": {},
   "outputs": [],
   "source": [
    "fig, axes = plt.subplots(ncols=2, nrows=2)\n",
    "_ = axes[0,0].hist(X_train[:,0], label=\"train\")\n",
    "_ = axes[0,0].hist(X_test[:,0], label=\"test\")\n",
    "_ = axes[0,1].hist(X_train[:,1], label=\"train\")\n",
    "_ = axes[0,1].hist(X_test[:,1], label=\"test\")\n",
    "_ = axes[1,0].hist(X_train_std[:,0], label=\"train\")\n",
    "_ = axes[1,0].hist(X_test_std[:,0], label=\"test\")\n",
    "_ = axes[1,1].hist(X_train_std[:,1], label=\"train\")\n",
    "_ = axes[1,1].hist(X_test_std[:,1], label=\"test\")"
   ]
  },
  {
   "cell_type": "code",
   "execution_count": null,
   "metadata": {},
   "outputs": [],
   "source": [
    "from sklearn.linear_model import Perceptron"
   ]
  },
  {
   "cell_type": "code",
   "execution_count": null,
   "metadata": {},
   "outputs": [],
   "source": [
    "ppn = Perceptron(n_iter=40, eta0=.1, random_state=1)"
   ]
  },
  {
   "cell_type": "code",
   "execution_count": null,
   "metadata": {},
   "outputs": [],
   "source": [
    "ppn"
   ]
  },
  {
   "cell_type": "code",
   "execution_count": null,
   "metadata": {},
   "outputs": [],
   "source": [
    "ppn.fit(X_train_std, y_train)"
   ]
  },
  {
   "cell_type": "code",
   "execution_count": null,
   "metadata": {},
   "outputs": [],
   "source": [
    "y_pred = ppn.predict(X_test_std)"
   ]
  },
  {
   "cell_type": "code",
   "execution_count": null,
   "metadata": {},
   "outputs": [],
   "source": [
    "\"Missclassified: \", (y_test!=y_pred).sum()"
   ]
  },
  {
   "cell_type": "code",
   "execution_count": null,
   "metadata": {},
   "outputs": [],
   "source": [
    "fig, (ax1, ax2) = plt.subplots(ncols=2)\n",
    "_ = ax1.set_title(\"$y$\")\n",
    "_ = ax2.set_title(\"$\\hat{y}$\")\n",
    "_ = ax1.scatter(X_test_std[:,0], X_test_std[:,1], c=y_test)\n",
    "_ = ax2.scatter(X_test_std[:,0], X_test_std[:,1], c=y_pred)"
   ]
  },
  {
   "cell_type": "code",
   "execution_count": null,
   "metadata": {},
   "outputs": [],
   "source": [
    "from sklearn.metrics import accuracy_score"
   ]
  },
  {
   "cell_type": "code",
   "execution_count": null,
   "metadata": {},
   "outputs": [],
   "source": [
    "accuracy_score(y_test, y_pred)"
   ]
  },
  {
   "cell_type": "code",
   "execution_count": null,
   "metadata": {},
   "outputs": [],
   "source": [
    "ppn.score(X_test_std, y_test)"
   ]
  },
  {
   "cell_type": "code",
   "execution_count": null,
   "metadata": {},
   "outputs": [],
   "source": [
    "from matplotlib.colors import ListedColormap\n",
    "import matplotlib.pyplot as plt\n",
    "from mlxtend.plotting import plot_decision_regions"
   ]
  },
  {
   "cell_type": "code",
   "execution_count": null,
   "metadata": {},
   "outputs": [],
   "source": [
    "X_combined_std = np.vstack((X_train_std, X_test_std))\n",
    "X_combined_std.shape"
   ]
  },
  {
   "cell_type": "code",
   "execution_count": null,
   "metadata": {},
   "outputs": [],
   "source": [
    "y_combined = np.hstack((y_train, y_test))\n",
    "y_combined.shape"
   ]
  },
  {
   "cell_type": "code",
   "execution_count": null,
   "metadata": {},
   "outputs": [],
   "source": [
    "fig, ax = plt.subplots(constrained_layout=True)\n",
    "plot_decision_regions(X=X_combined_std, y=y_combined, clf=ppn, ax=ax)\n",
    "_ = ax.set_xlabel(\"petal length\")\n",
    "_ = ax.set_ylabel(\"petel width\")\n",
    "_ = ax.legend(loc='upper left')\n"
   ]
  },
  {
   "cell_type": "code",
   "execution_count": null,
   "metadata": {},
   "outputs": [],
   "source": [
    "def sigmoid(z):\n",
    "    return 1.0 / (1.0 + np.exp(-z))"
   ]
  },
  {
   "cell_type": "code",
   "execution_count": null,
   "metadata": {},
   "outputs": [],
   "source": [
    "z = np.arange(-7, 8, 0.1)\n",
    "phi_z = sigmoid(z)\n",
    "\n",
    "fig, ax = plt.subplots(constrained_layout=True)\n",
    "ax.plot(z, phi_z)\n",
    "ax.axvline(0.0, color='k')\n",
    "ax.set_ylim(-0.1, 1.0)\n",
    "ax.set_ylabel('$\\phi (z)$')\n",
    "ax.set_xlabel('z')\n",
    "ax.set_yticks([0.0, 0.5, 1.0])\n",
    "ax.yaxis.grid(True)\n",
    "\n"
   ]
  },
  {
   "cell_type": "code",
   "execution_count": null,
   "metadata": {},
   "outputs": [],
   "source": [
    "def cost_1(z):\n",
    "    return -np.log(sigmoid(z))\n",
    "\n",
    "def cost_0(z):\n",
    "    return -np.log(1-sigmoid(z))"
   ]
  },
  {
   "cell_type": "code",
   "execution_count": null,
   "metadata": {},
   "outputs": [],
   "source": [
    "z = np.arange(-10, 10, 0.1)\n",
    "phi_z = sigmoid(z)\n",
    "\n",
    "c1 = [cost_1(x) for x in z]\n",
    "c0 = [cost_0(x) for x in z]"
   ]
  },
  {
   "cell_type": "code",
   "execution_count": null,
   "metadata": {},
   "outputs": [],
   "source": [
    "fig, ax = plt.subplots()\n",
    "_ = ax.plot(phi_z, c0, linestyle='--', label='J(w) if y=0')\n",
    "_ = ax.plot(phi_z, c1, linestyle='--', label='J(w) if y=1')\n",
    "_ = ax.legend()\n",
    "_ = ax.set_ylim([0, 5])\n",
    "_ = ax.set_xlim([0,1])\n",
    "_ = ax.set_xlabel(\"$\\phi(z)$\")\n",
    "_ = ax.set_ylabel(\"J(w)\")\n"
   ]
  },
  {
   "cell_type": "code",
   "execution_count": null,
   "metadata": {},
   "outputs": [],
   "source": [
    "#https://en.wikipedia.org/wiki/Logistic_regression\n",
    "fig, (ax1, ax2) = plt.subplots(nrows=2, constrained_layout=True)\n",
    "_ = ax1.plot(z, phi_z)\n",
    "_ = ax1.axvline(0.0, color='k')\n",
    "_ = ax1.set_ylim(-0.1, 1.0)\n",
    "_ = ax1.set_ylabel('$\\phi (z)$')\n",
    "_ = ax1.set_xlabel('z')\n",
    "_ = ax1.set_yticks([0.0, 0.5, 1.0])\n",
    "_ = ax1.yaxis.grid(True)\n",
    "\n",
    "_ = ax2.plot(phi_z, c0, linestyle='--', label='J(w) if y=0')\n",
    "_ = ax2.plot(phi_z, c1, linestyle='--', label='J(w) if y=1')\n",
    "_ = ax2.legend()\n",
    "_ = ax2.set_ylim([0, 5])\n",
    "_ = ax2.set_xlim([0,1])\n",
    "_ = ax2.set_xlabel(\"$\\phi(z)$\")\n",
    "_ = ax2.set_ylabel(\"J(w)\")\n"
   ]
  },
  {
   "cell_type": "code",
   "execution_count": null,
   "metadata": {},
   "outputs": [],
   "source": [
    "X_train_01_subset = X_train[(y_train==0) | (y_train == 1)]\n",
    "y_train_01_subset = y_train[(y_train==0) | (y_train==1)]"
   ]
  },
  {
   "cell_type": "code",
   "execution_count": null,
   "metadata": {},
   "outputs": [],
   "source": [
    "_ = plt.scatter(X_train_01_subset[:,0], X_train_01_subset[:,1], \n",
    "            c=y_train_01_subset)"
   ]
  },
  {
   "cell_type": "code",
   "execution_count": null,
   "metadata": {},
   "outputs": [],
   "source": [
    "from sklearn.linear_model import LogisticRegression\n",
    "\n",
    "lrgd = LogisticRegression(C=100.0, random_state=1)\n",
    "lrgd"
   ]
  },
  {
   "cell_type": "code",
   "execution_count": null,
   "metadata": {},
   "outputs": [],
   "source": [
    "lrgd.fit(X_train_01_subset, y_train_01_subset)"
   ]
  },
  {
   "cell_type": "code",
   "execution_count": null,
   "metadata": {},
   "outputs": [],
   "source": [
    "plot_decision_regions(X_train_01_subset, y_train_01_subset, clf=lrgd)\n",
    "plt.xlabel(\"length\")\n",
    "plt.ylabel(\"width\")"
   ]
  },
  {
   "cell_type": "code",
   "execution_count": null,
   "metadata": {},
   "outputs": [],
   "source": [
    "lr = LogisticRegression(C=100.0, random_state=1)"
   ]
  },
  {
   "cell_type": "code",
   "execution_count": null,
   "metadata": {},
   "outputs": [],
   "source": [
    "lr.fit(X_train_std, y_train)"
   ]
  },
  {
   "cell_type": "code",
   "execution_count": null,
   "metadata": {},
   "outputs": [],
   "source": [
    "plot_decision_regions(X_combined_std, y_combined, lr)\n",
    "plt.xlabel(\"length\")\n",
    "plt.ylabel(\"width\")"
   ]
  },
  {
   "cell_type": "code",
   "execution_count": null,
   "metadata": {},
   "outputs": [],
   "source": [
    "lr.score(X_test_std, y_test)"
   ]
  },
  {
   "cell_type": "code",
   "execution_count": null,
   "metadata": {},
   "outputs": [],
   "source": [
    "lr.predict_proba(X_test_std)"
   ]
  },
  {
   "cell_type": "code",
   "execution_count": null,
   "metadata": {},
   "outputs": [],
   "source": [
    "lr.predict_proba(X_test_std).sum(axis=1)"
   ]
  },
  {
   "cell_type": "code",
   "execution_count": null,
   "metadata": {},
   "outputs": [],
   "source": [
    "import matplotlib.colors as mcolors\n",
    "import matplotlib.cm as mcm\n",
    "\n",
    "fig, (ax1, ax2) = plt.subplots(ncols=2, constrained_layout=True)\n",
    "\n",
    "pnorm = mcolors.Normalize(vmin=0, vmax=1)\n",
    "pcmap = mcm.Blues\n",
    "im = ax1.pcolormesh(lr.predict_proba(X_test_std), norm=pnorm, cmap=pcmap)\n",
    "_ = ax1.set_xticks([.5, 1.5, 2.5])\n",
    "_ = ax1.set_xticklabels([0,1,2])\n",
    "_ = ax1.set_xlabel(\"classes\")\n",
    "\n",
    "ccmap = mcolors.ListedColormap([mcm.tab20c(2), mcm.tab20c(6), mcm.tab20c(10)])\n",
    "cnorm = mcolors.BoundaryNorm([-.5, .5, 1.5, 2.5], ccmap.N)\n",
    "im2 = ax2.pcolormesh(np.vstack([y_test, lr.predict(X_test_std)]).T, \n",
    "                               cmap=ccmap, norm=cnorm)\n",
    "ax2.set_xticks([.5, 1.5])\n",
    "ax2.set_xticklabels([\"Expected\", \"Actual\"])\n",
    "ax2.axvline(x=1, color='k')\n",
    "cb = fig.colorbar(im, ax=ax1)\n",
    "_ = cb.set_label(\"p(being in class)\")\n",
    "cb2 = fig.colorbar(im2, ax=ax2)\n",
    "cb2.set_ticks([0,1,2])\n",
    "cb.set_label(\"classes\")\n"
   ]
  },
  {
   "cell_type": "code",
   "execution_count": null,
   "metadata": {},
   "outputs": [],
   "source": [
    "mi = (y_test != lr.predict(X_test_std)).nonzero()[0][0]\n",
    "mx, my = X_test_std[mi].squeeze()\n",
    "mx, my, mi"
   ]
  },
  {
   "cell_type": "code",
   "execution_count": null,
   "metadata": {},
   "outputs": [],
   "source": [
    "import matplotlib.colors as mcolors\n",
    "pp = lr.predict_proba(X_test_std)\n",
    "fig, axes = plt.subplots(ncols=2, nrows=2, constrained_layout=True)\n",
    "for i, ax in enumerate(axes.flatten()):\n",
    "    if i == 3:\n",
    "        colors = y_test\n",
    "        cmap = ccmap\n",
    "        norm = cnorm\n",
    "        title = \"Expected classes\"\n",
    "    else: \n",
    "        colors = pp[:,i]\n",
    "        norm = pnorm\n",
    "        cmap = pcmap\n",
    "        title = f\"P( class {i})\"\n",
    "        \n",
    "    _ = ax.set_title(title)   \n",
    "    im = ax.scatter(X_test_std[:,0], X_test_std[:, 1], c=colors, cmap=cmap, norm=norm)\n",
    "    _ = ax.scatter(mx, my, color=cmap(norm(colors[mi])), edgecolor='Red')"
   ]
  },
  {
   "cell_type": "code",
   "execution_count": null,
   "metadata": {},
   "outputs": [],
   "source": [
    "lr.predict_proba(X_test_std).argmax(axis=1)"
   ]
  },
  {
   "cell_type": "code",
   "execution_count": null,
   "metadata": {},
   "outputs": [],
   "source": [
    "y_test"
   ]
  },
  {
   "cell_type": "code",
   "execution_count": null,
   "metadata": {},
   "outputs": [],
   "source": [
    "(lr.predict_proba(X_test_std).argmax(axis=1)!=y_test).sum()"
   ]
  },
  {
   "cell_type": "code",
   "execution_count": null,
   "metadata": {},
   "outputs": [],
   "source": [
    "(lr.predict_proba(X_test_std).argmax(axis=1)!=lr.predict(X_test_std)).sum()"
   ]
  },
  {
   "cell_type": "code",
   "execution_count": null,
   "metadata": {},
   "outputs": [],
   "source": [
    "axes.shape"
   ]
  },
  {
   "cell_type": "code",
   "execution_count": null,
   "metadata": {},
   "outputs": [],
   "source": [
    "axes.flatten().shape"
   ]
  },
  {
   "cell_type": "code",
   "execution_count": null,
   "metadata": {},
   "outputs": [],
   "source": []
  }
 ],
 "metadata": {
  "kernelspec": {
   "display_name": "env1",
   "language": "python",
   "name": "env1"
  },
  "language_info": {
   "codemirror_mode": {
    "name": "ipython",
    "version": 3
   },
   "file_extension": ".py",
   "mimetype": "text/x-python",
   "name": "python",
   "nbconvert_exporter": "python",
   "pygments_lexer": "ipython3",
   "version": "3.6.6"
  }
 },
 "nbformat": 4,
 "nbformat_minor": 2
}
